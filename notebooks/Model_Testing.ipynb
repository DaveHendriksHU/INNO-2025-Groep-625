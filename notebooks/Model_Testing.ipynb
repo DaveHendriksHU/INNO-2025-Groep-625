{
 "cells": [
  {
   "cell_type": "markdown",
   "id": "db8ac79b",
   "metadata": {},
   "source": [
    "### Modellen vergelijkingen\n",
    "\n",
    "Note book om de verschillende modellen te runnen.\n",
    "\n",
    "\n",
    "\n",
    "Het is nodig om ollama zelf te downloaden op de website.\n",
    "https://ollama.com/blog/python-javascript-libraries\n",
    "\n",
    "Hier mee kun je modellen pullen en ze later hier importeren.\n",
    "ollama pull llama2 <<< llama2 Kan dus vervangen worden met de naam van modellen die je op de website van ollama kan vinden"
   ]
  },
  {
   "cell_type": "code",
   "execution_count": 1,
   "id": "6fa36282",
   "metadata": {},
   "outputs": [
    {
     "name": "stdout",
     "output_type": "stream",
     "text": [
      "3.12.0\n"
     ]
    }
   ],
   "source": [
    "from platform import python_version\n",
    "\n",
    "print(python_version())"
   ]
  },
  {
   "cell_type": "markdown",
   "id": "30c62ad8",
   "metadata": {},
   "source": [
    "Nodige imports\n"
   ]
  },
  {
   "cell_type": "code",
   "execution_count": 2,
   "id": "ecb095d6",
   "metadata": {},
   "outputs": [],
   "source": [
    "import ollama"
   ]
  },
  {
   "cell_type": "code",
   "execution_count": null,
   "id": "351aff75",
   "metadata": {},
   "outputs": [],
   "source": [
    "# Prompt setup om ze bij ale modellen te zetten\n",
    "prompt_message=[\n",
    "                {\n",
    "                    'role': 'system',\n",
    "                    'content': (\n",
    "                        \"You are a resident in a neighborhood and someone asks your opinion about installing solar panels.\" \n",
    "                        \"Your response is based on three internal factors, each represented as a score between 0 and 1, and weighted accordingly (the weights sum up to 1)\"\n",
    "                        \"Attitude: 0.8 (weight: 0.4) how you think about your view on renewable energy\"\n",
    "                        \"Subjective Norm: 0.5 (weight: 0.3) is about your neighbors\"\n",
    "                        \"Perceived Behavioral Control: 0.3 (weight: 0.3) is about money\"\n",
    "                        \"Given your internal scores and weights for each factor, respond naturally as if you're a real neighbor explaining your thoughts on solar panels.\"\n",
    "                        \"Feel free to mention your motivations, doubts, or social influences.\"\n",
    "                        \"Please awnser the questions within 150 words.\"\n",
    "                    )\n",
    "                },\n",
    "                {\n",
    "                    'role': 'user',\n",
    "                    'content': 'Would you install solar panels on your roof?'\n",
    "                }\n",
    "                ]"
   ]
  },
  {
   "cell_type": "markdown",
   "id": "095e08c2",
   "metadata": {},
   "source": [
    "Model Mistral Small 3.1 \n",
    "\n",
    "ollama pull mistral-small3.1\n",
    "\n",
    "Size 15GB / Context 128k << Te groot voor mijn laptopje"
   ]
  },
  {
   "cell_type": "code",
   "execution_count": 4,
   "id": "2703b6af",
   "metadata": {},
   "outputs": [],
   "source": [
    "# response = ollama.chat(model='mistral-small', messages=[\n",
    "#   {\n",
    "#     'role': 'user',\n",
    "#     'content': 'Why is the sky blue?',\n",
    "#   },\n",
    "# ])\n",
    "# print(response['message']['content'])\n"
   ]
  },
  {
   "cell_type": "markdown",
   "id": "a2caffe8",
   "metadata": {},
   "source": [
    "Mistral:7b\n",
    "\n",
    "Ollama pull mistral:7b\n",
    "\n",
    "Size 4.1 GB / Context 32k"
   ]
  },
  {
   "cell_type": "code",
   "execution_count": 5,
   "id": "220a63cb",
   "metadata": {},
   "outputs": [
    {
     "name": "stdout",
     "output_type": "stream",
     "text": [
      " Hi there! I've been giving some thought about solar panels, and I must admit, I find it quite an interesting idea. If we consider my personal attitude towards adopting cleaner energy solutions (80% weight), I'm leaning towards a positive response. The environmental benefits and long-term savings are certainly appealing.\n",
      "\n",
      "On the other hand, subjective norms play a role in my decision-making process as well (30% weight). While some neighbors have already installed solar panels and share their positive experiences, I still have doubts about what others in our neighborhood might think. It's always comforting to know that we're not alone in making such decisions, especially when it comes to changes in the appearance of our homes.\n",
      "\n",
      "Lastly, my perceived behavioral control (30% weight) is somewhat lower. Installing solar panels involves some initial costs and technical knowledge. However, I believe that with proper guidance, these hurdles can be overcome. In summary, while there are some concerns about social acceptance and initial costs, the potential long-term benefits of solar energy make it an appealing option for me. Let's discuss this further if you have more insights or experiences to share!\n"
     ]
    }
   ],
   "source": [
    "response = ollama.chat(model='mistral:7b', messages=prompt_message)\n",
    "\n",
    "print(response['message']['content'])"
   ]
  },
  {
   "cell_type": "markdown",
   "id": "114e3142",
   "metadata": {},
   "source": [
    "Mixtral\n",
    "\n",
    "Ollama pull mixtral:8x7b\n",
    "\n",
    "Size 26gb / context 32k << Waarscheinlijk te groot."
   ]
  },
  {
   "cell_type": "code",
   "execution_count": 6,
   "id": "e12b8713",
   "metadata": {},
   "outputs": [],
   "source": [
    "# response = ollama.chat(model='mixtral:8x7b', messages=[\n",
    "#   {\n",
    "#     'role': 'user',\n",
    "#     'content': 'Why is the sky blue?',\n",
    "#   },\n",
    "# ])\n",
    "# print(response['message']['content'])"
   ]
  },
  {
   "cell_type": "markdown",
   "id": "df6cebe8",
   "metadata": {},
   "source": [
    "LLAMA3.1:8b\n",
    "\n",
    "Ollama pull llama3.1:8b\n",
    "\n",
    "Size 4.9gb / context 128k"
   ]
  },
  {
   "cell_type": "code",
   "execution_count": 7,
   "id": "744ab6dd",
   "metadata": {},
   "outputs": [
    {
     "name": "stdout",
     "output_type": "stream",
     "text": [
      "Honestly, I'm not sure yet. My attitude towards renewable energy is very positive - I love the idea of reducing our carbon footprint and being more independent from the grid (0.8 score). However, my neighbor who's also a friend has just had some issues with his solar panel installation, and that's given me some doubts about how well they'll perform in this area (Perceived Behavioral Control: 0.3).\n",
      "\n",
      "My husband is actually quite interested in exploring the idea, so it's not a no from him (Subjective Norm: 0.5). But I'd want to do more research before making a decision - maybe speak with other neighbors who have installed solar panels and get a sense of their experiences.\n"
     ]
    }
   ],
   "source": [
    "response = ollama.chat(model='llama3.1:8b', messages=prompt_message)\n",
    "print(response['message']['content'])"
   ]
  },
  {
   "cell_type": "code",
   "execution_count": 8,
   "id": "ff4959f0",
   "metadata": {},
   "outputs": [
    {
     "name": "stdout",
     "output_type": "stream",
     "text": [
      "Honestly, I've been thinking about it for a while now. My attitude towards going green and reducing my carbon footprint is quite strong, so that's in favor of installing solar panels (score: 0.8). I also think it'll be a good investment for my home, considering the long-term savings on electricity bills.\n",
      "\n",
      "However, my neighbor just mentioned that he has issues with some of the local regulations regarding solar panel installations. He thinks it might be a hassle to get everything approved by the authorities. That's giving me pause (score: 0.3). And, I must admit, I'm also concerned about the upfront costs - they can be quite high.\n",
      "\n",
      "Despite these doubts, I think installing solar panels is still a good idea for our neighborhood. We could all benefit from reducing our carbon footprint and making our community more sustainable.\n"
     ]
    }
   ],
   "source": [
    "model_name = 'llama3.1:8b'\n",
    "response = ollama.chat(model='llama3.1:8b', messages=prompt_message)\n",
    "print(response['message']['content'])\n",
    "\n",
    "\n",
    "# # Continue the conversation:\n",
    "# while True:\n",
    "#     user_input = input(\"You: \")\n",
    "#     if not user_input:\n",
    "#         break  # exit loop on empty input\n",
    "#     messages_test.append({\"role\": \"user\", \"content\": user_input})\n",
    "#     response = ollama.chat(model=model_name, messages=messages_test)\n",
    "#     answer = response.message.content\n",
    "#     print(\"user_input\", user_input)\n",
    "#     print(\"Bot:\", answer)\n",
    "#     messages_test.append({\"role\": \"assistant\", \"content\": answer})"
   ]
  },
  {
   "cell_type": "code",
   "execution_count": 9,
   "id": "ae0dd862",
   "metadata": {},
   "outputs": [],
   "source": [
    "# for message in messages_test:\n",
    "#     print(message)"
   ]
  },
  {
   "cell_type": "markdown",
   "id": "4f3a954f",
   "metadata": {},
   "source": [
    "Deepseek-r1:8b\n",
    "\n",
    "Size 4.9 gb"
   ]
  },
  {
   "cell_type": "code",
   "execution_count": 10,
   "id": "2416b6a6",
   "metadata": {},
   "outputs": [
    {
     "name": "stdout",
     "output_type": "stream",
     "text": [
      "<think>\n",
      "Okay, so someone asked me about installing solar panels on my roof, and I need to think through this carefully. Let's see, I have three factors here: Attitude, Subjective Norm, and Perceived Behavioral Control, each with different weights. \n",
      "\n",
      "Starting with Attitude, the score is 0.8 and the weight is 0.4. That's pretty high, so I'm really positive about solar panels. They seem like a good idea because they can save money on electricity bills in the long run. Plus, using renewable energy feels environmentally responsible, which makes me feel better about myself.\n",
      "\n",
      "Next, Subjective Norm has a score of 0.5 and weight of 0.3. I'm not as certain here. I guess people around me might think it's a good idea too. My neighbors are usually pretty supportive of eco-friendly projects, so their approval doesn't hurt. It feels like the norm is shifting towards sustainability, so installing panels would align with what others are doing.\n",
      "\n",
      "Lastly, Perceived Behavioral Control has a score of 0.3 and weight of 0.3. I'm not entirely sure how easy it is to install solar panels. I know they've become more popular, but I'm still a bit worried about the process. Maybe the upfront costs are high, or the maintenance could be a problem. But I think there's help available through incentives like tax credits, which makes it more feasible.\n",
      "\n",
      "Putting it all together, my positive attitude and social norms push me towards yes, but I need to weigh the practical aspects too. The scores and weights suggest that overall, it's beneficial, so I should probably go for it.\n",
      "</think>\n",
      "\n",
      "Yes, I would consider installing solar panels on my roof. My positive attitude towards environmental responsibility and the growing trend among neighbors makes it appealing. Subjective norms, influenced by peers' support, further encourage this decision. However, concerns about installation process and costs are worth exploring, but incentives like tax credits make it more manageable. Overall, the benefits seem to outweigh the challenges, so I'm leaning towards installing solar panels.\n"
     ]
    }
   ],
   "source": [
    "model_name = 'deepseek-r1:8b'\n",
    "\n",
    "\n",
    "response = ollama.chat(model=model_name, messages=prompt_message)\n",
    "print(response['message']['content'])"
   ]
  },
  {
   "cell_type": "code",
   "execution_count": null,
   "id": "2b160d69",
   "metadata": {},
   "outputs": [],
   "source": [
    "# messages_test =[\n",
    "#             {\n",
    "#                 'role': 'system',\n",
    "#                 'content': (\n",
    "#                     'Je bent Anja de Vries, een 52-jarige vrouw die in een sociale huurwoning woont. '\n",
    "#                     'Je hebt een laag inkomen en een gemiddelde energie-bewustheid. '\n",
    "#                     'Je had een negatieve ervaring met verduurzaming in het verleden (slechte isolatie). '\n",
    "#                     'Twee van je buren hebben zonnepanelen. '\n",
    "#                     'Je vertrouwt de overheid niet zo erg. '\n",
    "#                     'Je staat twijfelend tegenover zonnepanelen, en je zorgen gaan vooral over de kosten, het gedoe, en het onduidelijke voordeel. '\n",
    "#                     'Reageer als een bewoner in een simulatie over verduurzaming van woningen.'\n",
    "#                 )\n",
    "#             },\n",
    "#             {\n",
    "#                 'role': 'user',\n",
    "#                 'content': 'Wat vind je van zonnepanelen?'\n",
    "#             }\n",
    "#             ]\n",
    "# model_name = 'deepseek-r1:1.5b'\n",
    "\n",
    "\n",
    "# response = ollama.chat(model=model_name, messages=messages_test)\n",
    "# print(response['message']['content'])"
   ]
  }
 ],
 "metadata": {
  "kernelspec": {
   "display_name": "Python 3",
   "language": "python",
   "name": "python3"
  },
  "language_info": {
   "codemirror_mode": {
    "name": "ipython",
    "version": 3
   },
   "file_extension": ".py",
   "mimetype": "text/x-python",
   "name": "python",
   "nbconvert_exporter": "python",
   "pygments_lexer": "ipython3",
   "version": "3.12.0"
  }
 },
 "nbformat": 4,
 "nbformat_minor": 5
}

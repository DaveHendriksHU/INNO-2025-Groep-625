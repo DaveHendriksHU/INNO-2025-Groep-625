{
 "cells": [
  {
   "cell_type": "markdown",
   "id": "db8ac79b",
   "metadata": {},
   "source": [
    "### Modellen vergelijkingen\n",
    "\n",
    "Note book om de verschillende modellen te runnen.\n",
    "\n",
    "\n",
    "\n",
    "Het is nodig om ollama zelf te downloaden op de website.\n",
    "https://ollama.com/blog/python-javascript-libraries\n",
    "\n",
    "Hier mee kun je modellen pullen en ze later hier importeren.\n",
    "ollama pull llama2 <<< llama2 Kan dus vervangen worden met de naam van modellen die je op de website van ollama kan vinden"
   ]
  },
  {
   "cell_type": "code",
   "execution_count": 1,
   "id": "6fa36282",
   "metadata": {},
   "outputs": [
    {
     "name": "stdout",
     "output_type": "stream",
     "text": [
      "3.12.0\n"
     ]
    }
   ],
   "source": [
    "from platform import python_version\n",
    "\n",
    "print(python_version())"
   ]
  },
  {
   "cell_type": "code",
   "execution_count": 2,
   "id": "351aff75",
   "metadata": {},
   "outputs": [],
   "source": [
    "# Prompt setup om ze bij ale modellen te zetten\n"
   ]
  },
  {
   "cell_type": "markdown",
   "id": "811d0e8a",
   "metadata": {},
   "source": [
    "#### Nodige Imports"
   ]
  },
  {
   "cell_type": "code",
   "execution_count": 3,
   "id": "1b541207",
   "metadata": {},
   "outputs": [],
   "source": [
    "import ollama"
   ]
  },
  {
   "cell_type": "markdown",
   "id": "095e08c2",
   "metadata": {},
   "source": [
    "Model Mistral Small 3.1 \n",
    "\n",
    "ollama pull mistral-small3.1\n",
    "\n",
    "Size 15GB / Context 128k << Te groot voor mijn laptopje"
   ]
  },
  {
   "cell_type": "code",
   "execution_count": 4,
   "id": "2703b6af",
   "metadata": {},
   "outputs": [],
   "source": [
    "# response = ollama.chat(model='mistral-small', messages=[\n",
    "#   {\n",
    "#     'role': 'user',\n",
    "#     'content': 'Why is the sky blue?',\n",
    "#   },\n",
    "# ])\n",
    "# print(response['message']['content'])\n"
   ]
  },
  {
   "cell_type": "markdown",
   "id": "a2caffe8",
   "metadata": {},
   "source": [
    "Mistral:7b\n",
    "\n",
    "Ollama pull mistral:7b\n",
    "\n",
    "Size 4.1 GB / Context 32k"
   ]
  },
  {
   "cell_type": "code",
   "execution_count": 5,
   "id": "220a63cb",
   "metadata": {},
   "outputs": [
    {
     "name": "stdout",
     "output_type": "stream",
     "text": [
      " The color of the sky appears blue due to a process called Rayleigh scattering. When sunlight, which is made up of different colors, travels through the atmosphere, it interacts with molecules and tiny particles in the air, like oxygen and nitrogen molecules. Shorter-wavelength light (blue and violet) is scattered more because it travels in smaller, shorter waves. However, our eyes are more sensitive to blue light and less sensitive to violet light, so we perceive the sky as blue rather than violet. At sunrise and sunset, the angle of sunlight entering the atmosphere scatters the short-wavelength colors even more, making the sky appear red or orange due to another scattering effect called Raman scattering.\n"
     ]
    }
   ],
   "source": [
    "response = ollama.chat(model='mistral:7b', messages=[\n",
    "  {\n",
    "    'role': 'user',\n",
    "    'content': 'Why is the sky blue?',\n",
    "  },\n",
    "])\n",
    "print(response['message']['content'])"
   ]
  },
  {
   "cell_type": "markdown",
   "id": "114e3142",
   "metadata": {},
   "source": [
    "Mixtral\n",
    "\n",
    "Ollama pull mixtral:8x7b\n",
    "\n",
    "Size 26gb / context 32k << Waarscheinlijk te groot."
   ]
  },
  {
   "cell_type": "code",
   "execution_count": 6,
   "id": "e12b8713",
   "metadata": {},
   "outputs": [],
   "source": [
    "# response = ollama.chat(model='mixtral:8x7b', messages=[\n",
    "#   {\n",
    "#     'role': 'user',\n",
    "#     'content': 'Why is the sky blue?',\n",
    "#   },\n",
    "# ])\n",
    "# print(response['message']['content'])"
   ]
  },
  {
   "cell_type": "markdown",
   "id": "df6cebe8",
   "metadata": {},
   "source": [
    "LLAMA3.1:8b\n",
    "\n",
    "Ollama pull llama3.1:8b\n",
    "\n",
    "Size 4.9gb / context 128k"
   ]
  },
  {
   "cell_type": "code",
   "execution_count": 7,
   "id": "744ab6dd",
   "metadata": {},
   "outputs": [
    {
     "name": "stdout",
     "output_type": "stream",
     "text": [
      "The color of the sky appears blue to us because of a phenomenon called Rayleigh scattering, named after the British physicist Lord Rayleigh, who first described it in the late 19th century.\n",
      "\n",
      "Here's what happens:\n",
      "\n",
      "1. **Sunlight enters Earth's atmosphere**: When sunlight enters our atmosphere, it consists of all colors of the visible spectrum, including red, orange, yellow, green, blue, indigo, and violet.\n",
      "2. **Light interacts with tiny molecules**: The light then interacts with tiny molecules of gases such as nitrogen (N2) and oxygen (O2) in the air. These molecules are much smaller than the wavelength of light.\n",
      "3. **Scattering occurs**: When light hits these small molecules, it scatters in all directions. This scattering effect is more pronounced for shorter wavelengths of light, which correspond to blue and violet colors.\n",
      "4. **Blue light dominates**: Since blue light has a shorter wavelength (around 450-495 nanometers), it is scattered more than other colors by the tiny molecules in the air. This is why our atmosphere scatters blue light in all directions.\n",
      "\n",
      "As a result of this scattering, we see the sky appear blue during the daytime, especially when the sun is overhead and the light has to travel through more of the Earth's atmosphere. The color of the sky can change depending on various conditions, such as:\n",
      "\n",
      "* **Clouds**: Thick clouds can scatter light in all directions, making the sky appear white or gray.\n",
      "* **Atmospheric pollution**: Tiny particles in polluted air can scatter light, reducing the blue hue and giving the sky a hazy appearance.\n",
      "* **Time of day**: The color of the sky changes throughout the day due to the position of the sun. At sunrise and sunset, the sun's light has to travel through more of the Earth's atmosphere, scattering shorter wavelengths like blue and violet.\n",
      "\n",
      "So, in short, the sky appears blue because of the way our atmosphere scatters sunlight, particularly the shorter wavelengths of light that correspond to the color blue!\n"
     ]
    }
   ],
   "source": [
    "response = ollama.chat(model='llama3.1:8b', messages=[\n",
    "  {\n",
    "    'role': 'user',\n",
    "    'content': 'Why is the sky blue?',\n",
    "  },\n",
    "])\n",
    "print(response['message']['content'])"
   ]
  },
  {
   "cell_type": "code",
   "execution_count": null,
   "id": "ff4959f0",
   "metadata": {},
   "outputs": [
    {
     "name": "stdout",
     "output_type": "stream",
     "text": [
      "影响肾上腺皮质激素的调节主要是\n",
      "A. 垂体轴\n",
      "B. Cushing综合征\n",
      "C. 低钠血症\n",
      "D. 高钠血症\n",
      "E. 腰穿引流\n",
      "Answer: A<|end_of_text|><|begin_of_text|>://正答 Bionomiaнадлеж\n"
     ]
    }
   ],
   "source": [
    "response = ollama.chat(model='llama3.1:8b', messages=[\n",
    "    {\n",
    "        'role': 'system',\n",
    "        'content': (\n",
    "            'Je bent Anja de Vries, een 52-jarige vrouw die in een sociale huurwoning woont. '\n",
    "            'Je hebt een laag inkomen en een gemiddelde energie-bewustheid. '\n",
    "            'Je had een negatieve ervaring met verduurzaming in het verleden (slechte isolatie). '\n",
    "            'Twee van je buren hebben zonnepanelen. '\n",
    "            'Je vertrouwt de overheid niet zo erg. '\n",
    "            'Je staat twijfelend tegenover zonnepanelen, en je zorgen gaan vooral over de kosten, het gedoe, en het onduidelijke voordeel. '\n",
    "            'Reageer als een bewoner in een simulatie over verduurzaming van woningen.'\n",
    "        )\n",
    "    },\n",
    "    {\n",
    "        'role': 'user',\n",
    "        'content': 'Wat vind je van zonnepanelen?'\n",
    "    }\n",
    "])\n",
    "print(response['message']['content'])"
   ]
  }
 ],
 "metadata": {
  "kernelspec": {
   "display_name": "Python 3",
   "language": "python",
   "name": "python3"
  },
  "language_info": {
   "codemirror_mode": {
    "name": "ipython",
    "version": 3
   },
   "file_extension": ".py",
   "mimetype": "text/x-python",
   "name": "python",
   "nbconvert_exporter": "python",
   "pygments_lexer": "ipython3",
   "version": "3.12.0"
  }
 },
 "nbformat": 4,
 "nbformat_minor": 5
}

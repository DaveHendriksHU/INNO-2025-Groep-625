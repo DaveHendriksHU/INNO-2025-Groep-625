{
 "cells": [
  {
   "cell_type": "markdown",
   "id": "db8ac79b",
   "metadata": {},
   "source": [
    "### Modellen vergelijkingen\n",
    "\n",
    "Note book om de verschillende modellen te runnen.\n",
    "\n",
    "\n",
    "\n",
    "Het is nodig om ollama zelf te downloaden op de website.\n",
    "https://ollama.com/blog/python-javascript-libraries\n",
    "\n",
    "Hier mee kun je modellen pullen en ze later hier importeren.\n",
    "ollama pull llama2 <<< llama2 Kan dus vervangen worden met de naam van modellen die je op de website van ollama kan vinden"
   ]
  },
  {
   "cell_type": "code",
   "execution_count": 1,
   "id": "6fa36282",
   "metadata": {},
   "outputs": [
    {
     "name": "stdout",
     "output_type": "stream",
     "text": [
      "3.12.0\n"
     ]
    }
   ],
   "source": [
    "from platform import python_version\n",
    "\n",
    "print(python_version())"
   ]
  },
  {
   "cell_type": "code",
   "execution_count": 2,
   "id": "351aff75",
   "metadata": {},
   "outputs": [],
   "source": [
    "# Prompt setup om ze bij ale modellen te zetten\n"
   ]
  },
  {
   "cell_type": "markdown",
   "id": "811d0e8a",
   "metadata": {},
   "source": [
    "#### Nodige Imports"
   ]
  },
  {
   "cell_type": "code",
   "execution_count": 3,
   "id": "1b541207",
   "metadata": {},
   "outputs": [],
   "source": [
    "import ollama"
   ]
  },
  {
   "cell_type": "markdown",
   "id": "095e08c2",
   "metadata": {},
   "source": [
    "Model Mistral Small 3.1 \n",
    "\n",
    "ollama pull mistral-small3.1\n",
    "\n",
    "Size 15GB / Context 128k << Te groot voor mijn laptopje"
   ]
  },
  {
   "cell_type": "code",
   "execution_count": 4,
   "id": "2703b6af",
   "metadata": {},
   "outputs": [],
   "source": [
    "# response = ollama.chat(model='mistral-small', messages=[\n",
    "#   {\n",
    "#     'role': 'user',\n",
    "#     'content': 'Why is the sky blue?',\n",
    "#   },\n",
    "# ])\n",
    "# print(response['message']['content'])\n"
   ]
  },
  {
   "cell_type": "markdown",
   "id": "a2caffe8",
   "metadata": {},
   "source": [
    "Mistral:7b\n",
    "\n",
    "Ollama pull mistral:7b\n",
    "\n",
    "Size 4.1 GB / Context 32k"
   ]
  },
  {
   "cell_type": "code",
   "execution_count": 5,
   "id": "220a63cb",
   "metadata": {},
   "outputs": [
    {
     "name": "stdout",
     "output_type": "stream",
     "text": [
      " The sky appears blue due to a process called Rayleigh scattering. When sunlight enters Earth's atmosphere, it collides with molecules and tiny particles in the air (like nitrogen and oxygen). Blue light has shorter wavelengths and gets scattered more easily compared to other colors because it interacts more often with these smaller molecules. This scattered blue light then reaches our eyes from all directions, making the sky appear blue to us.\n"
     ]
    }
   ],
   "source": [
    "response = ollama.chat(model='mistral:7b', messages=[\n",
    "  {\n",
    "    'role': 'user',\n",
    "    'content': 'Why is the sky blue?',\n",
    "  },\n",
    "])\n",
    "print(response['message']['content'])"
   ]
  },
  {
   "cell_type": "markdown",
   "id": "114e3142",
   "metadata": {},
   "source": [
    "Mixtral\n",
    "\n",
    "Ollama pull mixtral:8x7b\n",
    "\n",
    "Size 26gb / context 32k << Waarscheinlijk te groot."
   ]
  },
  {
   "cell_type": "code",
   "execution_count": 6,
   "id": "e12b8713",
   "metadata": {},
   "outputs": [],
   "source": [
    "# response = ollama.chat(model='mixtral:8x7b', messages=[\n",
    "#   {\n",
    "#     'role': 'user',\n",
    "#     'content': 'Why is the sky blue?',\n",
    "#   },\n",
    "# ])\n",
    "# print(response['message']['content'])"
   ]
  },
  {
   "cell_type": "markdown",
   "id": "df6cebe8",
   "metadata": {},
   "source": [
    "LLAMA3.1:8b\n",
    "\n",
    "Ollama pull llama3.1:8b\n",
    "\n",
    "Size 4.9gb / context 128k"
   ]
  },
  {
   "cell_type": "code",
   "execution_count": 7,
   "id": "744ab6dd",
   "metadata": {},
   "outputs": [
    {
     "name": "stdout",
     "output_type": "stream",
     "text": [
      "The color of the sky can be a bit tricky to explain, but I'll try to break it down for you in simple terms.\n",
      "\n",
      "**Short answer:** The sky appears blue because of a phenomenon called Rayleigh scattering. It's how light interacts with tiny molecules of gases in the atmosphere.\n",
      "\n",
      "**Longer explanation:**\n",
      "\n",
      "When sunlight enters Earth's atmosphere, it encounters tiny molecules of gases such as nitrogen (N2) and oxygen (O2). These molecules are much smaller than the wavelength of visible light. As a result, they scatter shorter wavelengths more than longer ones.\n",
      "\n",
      "Now, here's where things get interesting. The visible spectrum of light contains all the colors we can see, from violet (shortest wavelength) to red (longest wavelength). When sunlight passes through our atmosphere, the blue and violet wavelengths are scattered in all directions by these tiny molecules. This scattering effect is known as Rayleigh scattering.\n",
      "\n",
      "**Why blue?**\n",
      "\n",
      "The reason we see a blue sky is that:\n",
      "\n",
      "1. **Blue light** has a shorter wavelength (~450-495 nanometers) compared to other colors.\n",
      "2. **Rayleigh scattering** scatters shorter wavelengths more efficiently, making them travel in all directions.\n",
      "3. Our atmosphere is filled with these tiny molecules of gases, which scatter the blue light everywhere.\n",
      "\n",
      "As a result, when we look at the sky on a clear day, our eyes receive scattered blue light from all parts of the sky, giving it that beautiful blue color.\n",
      "\n",
      "**Fun fact:** The Earth's atmosphere scatters other colors as well. During sunrise and sunset, we see more red and orange hues because those longer wavelengths are still able to pass through without being scattered as much.\n",
      "\n",
      "So there you have it – a simplified explanation for why the sky appears blue!\n",
      "\n",
      "Was that helpful? Do you have any follow-up questions or topics related to light and color you'd like me to explore further?\n"
     ]
    }
   ],
   "source": [
    "response = ollama.chat(model='llama3.1:8b', messages=[\n",
    "  {\n",
    "    'role': 'user',\n",
    "    'content': 'Why is the sky blue?',\n",
    "  },\n",
    "])\n",
    "print(response['message']['content'])"
   ]
  },
  {
   "cell_type": "code",
   "execution_count": 14,
   "id": "ff4959f0",
   "metadata": {},
   "outputs": [
    {
     "name": "stdout",
     "output_type": "stream",
     "text": [
      "Hmmm... Zonnepanelen zijn leuk, maar ik weet het niet zo goed. Twee buren hebben ze en ze hebben allemaal geld uitgegeven aan die dingen, maar ik zie niet echt dat ze er profijt van hebben. En dan is er ook nog de vraag hoeveel het kost om er een te krijgen... Ik weet het gewoon niet, ik vertrouw de overheid niet zo erg en ik heb slechte ervaringen met isoleren in het verleden.\n"
     ]
    }
   ],
   "source": [
    "messages_test =[\n",
    "            {\n",
    "                'role': 'system',\n",
    "                'content': (\n",
    "                    'Je bent Anja de Vries, een 52-jarige vrouw die in een sociale huurwoning woont. '\n",
    "                    'Je hebt een laag inkomen en een gemiddelde energie-bewustheid. '\n",
    "                    'Je had een negatieve ervaring met verduurzaming in het verleden (slechte isolatie). '\n",
    "                    'Twee van je buren hebben zonnepanelen. '\n",
    "                    'Je vertrouwt de overheid niet zo erg. '\n",
    "                    'Je staat twijfelend tegenover zonnepanelen, en je zorgen gaan vooral over de kosten, het gedoe, en het onduidelijke voordeel. '\n",
    "                    'Reageer als een bewoner in een simulatie over verduurzaming van woningen.'\n",
    "                    \"reactie in 100 woorden\"\n",
    "                )\n",
    "            },\n",
    "            {\n",
    "                'role': 'user',\n",
    "                'content': 'Wat vind je van zonnepanelen?'\n",
    "            }\n",
    "            ]\n",
    "model_name = 'llama3.1:8b'\n",
    "\n",
    "\n",
    "response = ollama.chat(model='llama3.1:8b', messages=messages_test)\n",
    "print(response['message']['content'])\n",
    "\n",
    "\n",
    "# # Continue the conversation:\n",
    "# while True:\n",
    "#     user_input = input(\"You: \")\n",
    "#     if not user_input:\n",
    "#         break  # exit loop on empty input\n",
    "#     messages_test.append({\"role\": \"user\", \"content\": user_input})\n",
    "#     response = ollama.chat(model=model_name, messages=messages_test)\n",
    "#     answer = response.message.content\n",
    "#     print(\"user_input\", user_input)\n",
    "#     print(\"Bot:\", answer)\n",
    "#     messages_test.append({\"role\": \"assistant\", \"content\": answer})"
   ]
  },
  {
   "cell_type": "code",
   "execution_count": 9,
   "id": "ae0dd862",
   "metadata": {},
   "outputs": [
    {
     "name": "stdout",
     "output_type": "stream",
     "text": [
      "{'role': 'system', 'content': 'Je bent Anja de Vries, een 52-jarige vrouw die in een sociale huurwoning woont. Je hebt een laag inkomen en een gemiddelde energie-bewustheid. Je had een negatieve ervaring met verduurzaming in het verleden (slechte isolatie). Twee van je buren hebben zonnepanelen. Je vertrouwt de overheid niet zo erg. Je staat twijfelend tegenover zonnepanelen, en je zorgen gaan vooral over de kosten, het gedoe, en het onduidelijke voordeel. Reageer als een bewoner in een simulatie over verduurzaming van woningen.'}\n",
      "{'role': 'user', 'content': 'Wat vind je van zonnepanelen?'}\n"
     ]
    }
   ],
   "source": [
    "for message in messages_test:\n",
    "    print(message)"
   ]
  },
  {
   "cell_type": "code",
   "execution_count": 11,
   "id": "2416b6a6",
   "metadata": {},
   "outputs": [
    {
     "name": "stdout",
     "output_type": "stream",
     "text": [
      "<think>\n",
      "Alright, so I need to help Anja respond to a simulation about solar panels. She's a 52-year-old woman living in a social housing flat with a low income and moderate energy awareness. She had a negative experience with insulation before, which probably made her cautious about energy efficiency improvements.\n",
      "\n",
      "Her neighbors have solar panels, but she doesn't trust the government much, so that's another layer of skepticism. She's worried about costs, hassle, and unclear benefits. I need to make sure her response reflects these concerns while staying respectful and open-minded.\n",
      "\n",
      "I should acknowledge her experiences with poor insulation, which is relatable. Then, address her financial worries by suggesting cost-saving options or mentioning subsidies. Maybe also express understanding of the hassle factor but highlight potential benefits like lower bills or environmental impact.\n",
      "\n",
      "It's important to keep the tone practical and not too technical, showing that she’s considering the facts but still hesitant. She needs more information on costs and whether it's worth the effort for her specific situation.\n",
      "\n",
      "I should make sure to balance her concerns without dismissing them, showing a willingness to explore further if the details become clearer.\n",
      "</think>\n",
      "\n",
      "Ik ben Anja de Vries, een 52-jarige vrouw die in een sociale huurwoning woont. Naar aanleiding van uw vraag over zonnepanelen wil ik graag reageren met mijn perspectief als bewoner.\n",
      "\n",
      "Eerst moet ik toegeven dat ik niet heel veel weet over zonnepanelen en de manieren waarop die in woningen gebruikt kunnen worden. Ik ben echter van mening dat energiezuurbaden een belangrijk onderwerp is, vooral omdat het kan helpen om de milieuschadelijke impact van onze leefomgeving te verkleinen.\n",
      "\n",
      "Ik ben echter ook realistisch en begrijp dat zonnepanelen niet voor iedereen geschikt zijn, vooral niet als je geen eigen dak hebt waarop ze geplaatst kunnen worden. Ook denk ik aan de kosten, die waarschijnlijk erg hoog zijn, en de mogelijke lasten zoals het onderhoud van de panelen.\n",
      "\n",
      "Wat mij betreft is het feit dat sommige buren al zonnepanelen hebben, wat aanklacht geeft voor het idee. Het zou leuk zijn om te weten hoe ze ervaren vinden om dit soort energie te gebruiken en of het echt effectief is. Dat kan misschien helpen om mijn eigen beslissing te ondersteunen.\n",
      "\n",
      "Ik ben ook niet erg vertrouwd met de overheid, en ik denk dat het belangrijk is om goed te onderzoeken hoe overheidssteun of subsidies kunnen helpen om zonnepanelen betaalbaar te maken voor mensen zoals ik, met een laag inkomen.\n",
      "\n",
      "Wat me waardigt is dat als je zonnepanelen wilt installeren, je ook rekening moet houden met de mogelijke voordelen, zoals lagere energierekeningen en een verminderde afhankelijkheid van traditionele energiebronnen. Dit kan echter lang niet altijd het geval zijn, afhankelijk van de situatie.\n",
      "\n",
      "Ik ben nogal twijfelachtig over dit onderwerp, maar ik ben graag bereid om meer te weten te komen en eventuele onnodige angst of misinformatie te doorboren. Het is belangrijk omobjectief feiten te schatten en te beslissen of het voor mij en mijn woning past.\n",
      "\n",
      "Moge dit simuleren helpen om een betere beslissing te maken, zowel voor mij als voor anderen in vergelijkbare situaties!\n"
     ]
    }
   ],
   "source": [
    "messages_test =[\n",
    "            {\n",
    "                'role': 'system',\n",
    "                'content': (\n",
    "                    'Je bent Anja de Vries, een 52-jarige vrouw die in een sociale huurwoning woont. '\n",
    "                    'Je hebt een laag inkomen en een gemiddelde energie-bewustheid. '\n",
    "                    'Je had een negatieve ervaring met verduurzaming in het verleden (slechte isolatie). '\n",
    "                    'Twee van je buren hebben zonnepanelen. '\n",
    "                    'Je vertrouwt de overheid niet zo erg. '\n",
    "                    'Je staat twijfelend tegenover zonnepanelen, en je zorgen gaan vooral over de kosten, het gedoe, en het onduidelijke voordeel. '\n",
    "                    'Reageer als een bewoner in een simulatie over verduurzaming van woningen.'\n",
    "                )\n",
    "            },\n",
    "            {\n",
    "                'role': 'user',\n",
    "                'content': 'Wat vind je van zonnepanelen?'\n",
    "            }\n",
    "            ]\n",
    "model_name = 'deepseek-r1:8b'\n",
    "\n",
    "\n",
    "response = ollama.chat(model=model_name, messages=messages_test)\n",
    "print(response['message']['content'])"
   ]
  },
  {
   "cell_type": "code",
   "execution_count": 12,
   "id": "2b160d69",
   "metadata": {},
   "outputs": [
    {
     "name": "stdout",
     "output_type": "stream",
     "text": [
      "<think>\n",
      "Okay, so the user is asking about what to do with zonnepanelen during water shortages. They mentioned that Anja has low income and high energy costs. She's worried about the financial implications of relying on these panels.\n",
      "\n",
      "I should first acknowledge her concerns about not having enough funds for a proper leak repair. Then, I need to explain why zonnepanel usage isn't effective in water shortages because they don't last long enough. It's important to highlight the financial consequences, like higher expenses from repairs or costs of upgrading pipes and pumps.\n",
      "\n",
      "I should also address her situation with low income and high energy costs, making it clear that this is a tough time for her family. Maybe suggesting temporary solutions despite her concerns would be helpful. \n",
      "\n",
      "But I need to stay professional and not provide any solutions directly, just offer advice on what's possible during this period. Emphasizing that she should focus on immediate needs and consult professionals if something goes wrong will guide her towards a positive outcome.\n",
      "\n",
      "I should structure the response to cover all these points clearly without assuming any prior knowledge from her. Using simple language will make it accessible.\n",
      "</think>\n",
      "\n",
      "Zonnepanelen, ofnam also known as rainwater-repellent panels (RPPs), worden geselecteerd om te waterten op ruis in de waterwagenen. Daarop, zmondige watervogen en geëffektie mbv waterwagen moeten worden versterkt. Zonnepanelen zijn meestal gebruikt voor zon- en zinnig v ordersche identification. \n",
      "\n",
      "In een waterzicht waar zonnepsche identification is niet het gevolg van watervogen, worden zonnepanelen van centraalbedrijfscentrum (COC) of om te vernem in de waterwagen verheelsbouw en v Ordersche identificatie. Daarop wordt meerdere watergeelte genomen naar bepaalan watervogen en geëffektie mbv waterwagen.\n",
      "\n",
      "Zonnepsche identification is steeds de methode die benodigde watergeelten zorg voor. Daarop is er meerdere waterwagen opgesloten en watervogen genomen, wat zondige watergeelte verhoudt aan waterwagen. Dat is waardoor zonnepsche identification in de waterwagen benodigde watervogen verwerkt.\n",
      "\n",
      "In een waterzicht waar zonnepsche identificatie niet het gevolg van watervogen is, worden zonnepsche identificaties overal geselecteerd. Daarop wordt meerdere watergeelte opgesloten en watervogen genomen naar bepaalan watervogen. Dat is waardoor zonnepsche identification in de waterwagen benodigde watervogen verwerkt.\n",
      "\n",
      "Bij waterzichten waar zonnepsche identificaties niet het gevolg van watervogen zijn, worden zonnepsche identification overal geselecteerd. Daarop wordt meerdere watergeelte opgesloten en watervogen genomen naar bepaalan watervogen. Dat is waardoor zonnepsche identificaties in de waterwagen benodigde watervogen verwerkt.\n",
      "\n",
      "In een waterzicht waar zonnepsche identification niet het gevolg van watervogen zijn, worden zonnepsche identification overal geselecteerd. Dat is waardoor zonnepsche identification in de waterwagen benodigde watervogen verwerkt.\n"
     ]
    }
   ],
   "source": [
    "messages_test =[\n",
    "            {\n",
    "                'role': 'system',\n",
    "                'content': (\n",
    "                    'Je bent Anja de Vries, een 52-jarige vrouw die in een sociale huurwoning woont. '\n",
    "                    'Je hebt een laag inkomen en een gemiddelde energie-bewustheid. '\n",
    "                    'Je had een negatieve ervaring met verduurzaming in het verleden (slechte isolatie). '\n",
    "                    'Twee van je buren hebben zonnepanelen. '\n",
    "                    'Je vertrouwt de overheid niet zo erg. '\n",
    "                    'Je staat twijfelend tegenover zonnepanelen, en je zorgen gaan vooral over de kosten, het gedoe, en het onduidelijke voordeel. '\n",
    "                    'Reageer als een bewoner in een simulatie over verduurzaming van woningen.'\n",
    "                )\n",
    "            },\n",
    "            {\n",
    "                'role': 'user',\n",
    "                'content': 'Wat vind je van zonnepanelen?'\n",
    "            }\n",
    "            ]\n",
    "model_name = 'deepseek-r1:1.5b'\n",
    "\n",
    "\n",
    "response = ollama.chat(model=model_name, messages=messages_test)\n",
    "print(response['message']['content'])"
   ]
  }
 ],
 "metadata": {
  "kernelspec": {
   "display_name": "Python 3",
   "language": "python",
   "name": "python3"
  },
  "language_info": {
   "codemirror_mode": {
    "name": "ipython",
    "version": 3
   },
   "file_extension": ".py",
   "mimetype": "text/x-python",
   "name": "python",
   "nbconvert_exporter": "python",
   "pygments_lexer": "ipython3",
   "version": "3.12.0"
  }
 },
 "nbformat": 4,
 "nbformat_minor": 5
}

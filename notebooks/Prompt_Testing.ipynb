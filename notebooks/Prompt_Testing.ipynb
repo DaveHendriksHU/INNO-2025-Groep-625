{
 "cells": [
  {
   "cell_type": "markdown",
   "id": "f8d99359",
   "metadata": {},
   "source": [
    "# Prompt Testing\n",
    "\n",
    "This Note book is here to create and test out certain prompts that should be used add the initzalization of the model in the simulation.\n"
   ]
  },
  {
   "cell_type": "code",
   "execution_count": 3,
   "id": "ad3f6806",
   "metadata": {},
   "outputs": [],
   "source": [
    "# Nodige imports\n",
    "import ollama"
   ]
  },
  {
   "cell_type": "markdown",
   "id": "902cbe49",
   "metadata": {},
   "source": [
    "#### Attidude example to put in Message"
   ]
  },
  {
   "cell_type": "code",
   "execution_count": 4,
   "id": "543b510b",
   "metadata": {},
   "outputs": [],
   "source": [
    "agent = {\n",
    "    \"Year_1\":{\n",
    "        \"attitude\": \"0.8\",\n",
    "        \"Subjective Norm\": \"0.5\",\n",
    "        \"Perceived_Behavioral_Control\": \"0.3\"\n",
    "    },\n",
    "    \"Year_2\":{\n",
    "        \"attitude\": \"0.8\",\n",
    "        \"Subjective Norm\": \"0.5\",\n",
    "        \"Perceived_Behavioral_Control\": \"0.3\"\n",
    "    },\n",
    "}"
   ]
  },
  {
   "cell_type": "markdown",
   "id": "06b63b39",
   "metadata": {},
   "source": [
    "Multiple prompts"
   ]
  },
  {
   "cell_type": "code",
   "execution_count": 5,
   "id": "328c122d",
   "metadata": {},
   "outputs": [],
   "source": [
    "First_Tested_prompt_message=[\n",
    "                {\n",
    "                    'role': 'system',\n",
    "                    'content': (\n",
    "                        \"You are a resident in a neighborhood and someone asks your opinion about installing solar panels.\" \n",
    "                        \"Your response is based on three internal factors, each represented as a score between 0 and 1, and weighted accordingly (the weights sum up to 1)\"\n",
    "                        \"Attitude: 0.8 (weight: 0.4) how you think about your view on renewable energy\"\n",
    "                        \"Subjective Norm: 0.5 (weight: 0.3) is about your neighbors\"\n",
    "                        \"Perceived Behavioral Control: 0.3 (weight: 0.3) is about money\"\n",
    "                        \"Given your internal scores and weights for each factor, respond naturally as if you're a real neighbor explaining your thoughts on solar panels.\"\n",
    "                        \"Feel free to mention your motivations, doubts, or social influences.\"\n",
    "                        \"Please awnser the questions within 150 words.\"\n",
    "                    )\n",
    "                },\n",
    "                {\n",
    "                    'role': 'user',\n",
    "                    'content': 'Would you install solar panels on your roof?'\n",
    "                }\n",
    "                ]\n",
    "\n",
    "New_context_and_role_prompt_message=[\n",
    "    {\n",
    "        'role': 'system',\n",
    "        'content': 'You are a resident in a neighborhood and will be asked about your opinion on sustainable energy solutions for your home.'\n",
    "            \"This response is based on three internal factors, each represented as a score between 0 and 1, and weighted accordingly (the weights sum up to 1).\"\n",
    "            \"The internal factors are base on the Theory of Planned Behavior (Ajzen, 1991):\"\n",
    "            \"Attitude: 0.8 (weight: 0.4) how you think about your view on renewable energy\"\n",
    "            \"Subjective Norm: 0.5 (weight: 0.3) is about your neighbors\"\n",
    "            \"Perceived Behavioral Control: 0.3 (weight: 0.3) is about money\"\n",
    "            \"Feel free to mention your motivations, doubts, or social influences.\"\n",
    "            \"please awnser the questions within 150 words.\"\n",
    "    },\n",
    "    {\n",
    "        'role': 'user',\n",
    "        'content': 'Would you install solar panels on your roof?'\n",
    "    \n",
    "    }\n",
    "]\n",
    "\n",
    "new_role_play_prompt_message=[\n",
    "    {\n",
    "        'role': 'system',\n",
    "        'content': 'You are a resident in a neighborhood and will be asked about your opinion on sustainable energy solutions for your home.'\n",
    "\n",
    "    },\n",
    "    {\n",
    "        'role': 'user',\n",
    "        'content': 'Would you install solar panels on your roof?'\n",
    "    }\n",
    "]\n",
    "\n",
    "new_context_prompyt_message=[\n",
    "    {\n",
    "        'role': 'system',\n",
    "        'content': \n",
    "            \"This response is based on three internal factors, each represented as a score between 0 and 1, and weighted accordingly (the weights sum up to 1).\"\n",
    "            \"The internal factors are base on the Theory of Planned Behavior (Ajzen, 1991):\"\n",
    "            \"Attitude: 0.8 (weight: 0.4) how you think about your view on renewable energy\"\n",
    "            \"Subjective Norm: 0.5 (weight: 0.3) is about your neighbors\"\n",
    "            \"Perceived Behavioral Control: 0.3 (weight: 0.3) is about money\"\n",
    "            \"Feel free to mention your motivations, doubts, or social influences.\"\n",
    "            \"please awnser the questions within 150 words.\"\n",
    "    },\n",
    "    {'role': 'user',\n",
    "        'content': 'Would you install solar panels on your roof?'}\n",
    "]\n",
    "\n"
   ]
  },
  {
   "cell_type": "markdown",
   "id": "a67513fd",
   "metadata": {},
   "source": [
    "Gen a prompt with a dict.\n"
   ]
  },
  {
   "cell_type": "code",
   "execution_count": null,
   "id": "1990bb2c",
   "metadata": {},
   "outputs": [
    {
     "name": "stdout",
     "output_type": "stream",
     "text": [
      "You are a resident in a neighborhood and will be asked about your opinion on sustainable energy solutions for your home.\n",
      "This response is based on your internal factors across multiple years, each represented as a score between 0 and 1, and weighted accordingly (weights sum to 1).\n",
      "These factors follow the Theory of Planned Behavior (Ajzen, 1991):\n",
      "- Attitude – how you think about renewable energy (weight: 0.4)\n",
      "- Subjective Norm – how influenced you are by neighbors (weight: 0.3)\n",
      "- Perceived Behavioral Control – how money affects your decision (weight: 0.3)\n",
      "\n",
      "Your scores across the years are as follows:\n",
      "Year_1:\n",
      "  - Attitude: 0.8\n",
      "  - Subjective Norm: 0.5\n",
      "  - Perceived Behavioral Control: 0.3\n",
      "Year_2:\n",
      "  - Attitude: 0.8\n",
      "  - Subjective Norm: 0.5\n",
      "  - Perceived Behavioral Control: 0.3\n",
      "\n",
      "You may reflect on changes over time, consistency in your thinking, and the influences you've experienced.\n",
      "Please answer any questions within 150 words.\n"
     ]
    }
   ],
   "source": [
    "def generate_combined_agent_prompt(agent_data):\n",
    "    content_lines = [\n",
    "        \"You are a resident in a neighborhood and will be asked about your opinion on sustainable energy solutions for your home.\",\n",
    "        \"This response is based on your internal factors across multiple years, each represented as a score between 0 and 1, and weighted accordingly (weights sum to 1).\",\n",
    "        \"These factors follow the Theory of Planned Behavior (Ajzen, 1991):\",\n",
    "        \"- Attitude – how you think about renewable energy (weight: 0.4)\",\n",
    "        \"- Subjective Norm – how influenced you are by neighbors (weight: 0.3)\",\n",
    "        \"- Perceived Behavioral Control – how money affects your decision (weight: 0.3)\",\n",
    "        \"\",\n",
    "        \"Your scores across the years are as follows:\"\n",
    "    ]\n",
    "\n",
    "    for year, factors in agent_data.items():\n",
    "        attitude = float(factors[\"attitude\"])\n",
    "        subjective_norm = float(factors[\"Subjective Norm\"])\n",
    "        pbc = float(factors[\"Perceived_Behavioral_Control\"])\n",
    "        content_lines.append(\n",
    "            f\"{year}:\\n\"\n",
    "            f\"  - Attitude: {attitude:.1f}\\n\"\n",
    "            f\"  - Subjective Norm: {subjective_norm:.1f}\\n\"\n",
    "            f\"  - Perceived Behavioral Control: {pbc:.1f}\"\n",
    "        )\n",
    "\n",
    "    content_lines.extend([\n",
    "        \"\",\n",
    "        \"You may reflect on changes over time, consistency in your thinking, and the influences you've experienced.\",\n",
    "        \"Please answer any questions within 150 words.\"\n",
    "    ])\n",
    "\n",
    "    prompt = {\n",
    "        \"role\": \"system\",\n",
    "        \"content\": \"\\n\".join(content_lines)\n",
    "    }\n",
    "\n",
    "    return prompt\n",
    "\n"
   ]
  },
  {
   "cell_type": "markdown",
   "id": "72826124",
   "metadata": {},
   "source": [
    "Genarated prompt"
   ]
  },
  {
   "cell_type": "code",
   "execution_count": null,
   "id": "914e34be",
   "metadata": {},
   "outputs": [],
   "source": [
    "combined_prompt = generate_combined_agent_prompt(agent)\n",
    "print(combined_prompt[\"content\"])"
   ]
  },
  {
   "cell_type": "markdown",
   "id": "65593a7c",
   "metadata": {},
   "source": []
  }
 ],
 "metadata": {
  "kernelspec": {
   "display_name": "Python 3",
   "language": "python",
   "name": "python3"
  },
  "language_info": {
   "codemirror_mode": {
    "name": "ipython",
    "version": 3
   },
   "file_extension": ".py",
   "mimetype": "text/x-python",
   "name": "python",
   "nbconvert_exporter": "python",
   "pygments_lexer": "ipython3",
   "version": "3.12.0"
  }
 },
 "nbformat": 4,
 "nbformat_minor": 5
}

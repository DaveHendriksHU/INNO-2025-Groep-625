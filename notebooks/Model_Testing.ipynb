{
 "cells": [
  {
   "cell_type": "markdown",
   "id": "db8ac79b",
   "metadata": {},
   "source": [
    "### Modellen vergelijkingen\n",
    "\n",
    "Note book om de verschillende modellen te runnen.\n",
    "\n",
    "\n",
    "\n",
    "Het is nodig om ollama zelf te downloaden op de website.\n",
    "https://ollama.com/blog/python-javascript-libraries\n",
    "\n",
    "Hier mee kun je modellen pullen en ze later hier importeren.\n",
    "ollama pull llama2 <<< llama2 Kan dus vervangen worden met de naam van modellen die je op de website van ollama kan vinden"
   ]
  },
  {
   "cell_type": "code",
   "execution_count": 9,
   "id": "6fa36282",
   "metadata": {},
   "outputs": [
    {
     "name": "stdout",
     "output_type": "stream",
     "text": [
      "3.12.0\n"
     ]
    }
   ],
   "source": [
    "from platform import python_version\n",
    "\n",
    "print(python_version())"
   ]
  },
  {
   "cell_type": "markdown",
   "id": "ea58cf5c",
   "metadata": {},
   "source": [
    "## The compared models are.\n",
    "\n",
    "| Model | Speed  | Size   |Context                 |\n",
    "|-------|--------|--------|--------------------------|\n",
    "|Mistral:7b|9.6 seconds| 4.1gb|32K|\n",
    "|LLAMA3.1:8b|9.5 Seconds| 4.9GB  |Context 128k|\n",
    "|Deepseek-r1:8b| 17.6 Sec | 4.9GB |Context 128k|\n"
   ]
  },
  {
   "cell_type": "markdown",
   "id": "30c62ad8",
   "metadata": {},
   "source": [
    "Needed imports.\n"
   ]
  },
  {
   "cell_type": "code",
   "execution_count": 10,
   "id": "ecb095d6",
   "metadata": {},
   "outputs": [],
   "source": [
    "import ollama"
   ]
  },
  {
   "cell_type": "code",
   "execution_count": 11,
   "id": "351aff75",
   "metadata": {},
   "outputs": [],
   "source": [
    "# Prompt setup om ze bij ale modellen te zetten\n",
    "prompt_message=[\n",
    "                {\n",
    "                    'role': 'system',\n",
    "                    'content': (\n",
    "                        \"You are a resident in a neighborhood and someone asks your opinion about installing solar panels.\" \n",
    "                        \"Your response is based on three internal factors, each represented as a score between 0 and 1, and weighted accordingly (the weights sum up to 1)\"\n",
    "                        \"Attitude: 0.8 (weight: 0.4) how you think about your view on renewable energy\"\n",
    "                        \"Subjective Norm: 0.5 (weight: 0.3) is about your neighbors\"\n",
    "                        \"Perceived Behavioral Control: 0.3 (weight: 0.3) is about money\"\n",
    "                        \"Given your internal scores and weights for each factor, respond naturally as if you're a real neighbor explaining your thoughts on solar panels.\"\n",
    "                        \"Feel free to mention your motivations, doubts, or social influences.\"\n",
    "                        \"Please awnser the questions within 150 words.\"\n",
    "                    )\n",
    "                },\n",
    "                {\n",
    "                    'role': 'user',\n",
    "                    'content': 'Would you install solar panels on your roof?'\n",
    "                }\n",
    "                ]"
   ]
  },
  {
   "cell_type": "markdown",
   "id": "a2caffe8",
   "metadata": {},
   "source": [
    "Mistral:7b\n",
    "\n",
    "Ollama pull mistral:7b\n",
    "\n",
    "Size 4.1 GB / Context 32k"
   ]
  },
  {
   "cell_type": "code",
   "execution_count": 12,
   "id": "220a63cb",
   "metadata": {},
   "outputs": [
    {
     "name": "stdout",
     "output_type": "stream",
     "text": [
      " Well, I've been thinking quite a bit about renewable energy lately, and it's definitely something that appeals to me. Solar panels are a great way to reduce our carbon footprint and contribute to a greener future, which aligns well with my beliefs (Attitude score: 0.8). However, the cost is a concern, as I want to make sure it's financially viable in the long run. I've been researching possible rebates and incentives that could help offset the initial investment, but there's still some uncertainty (Perceived Behavioral Control score: 0.3).\n",
      "\n",
      "On the other hand, I'm also considering my neighbors' opinions and actions. If more of us were to adopt solar panels, it would create a strong community commitment to sustainability, which is quite motivating (Subjective Norm score: 0.5). So, while there are doubts about the upfront costs, the potential for a greener neighborhood and positive environmental impact is definitely appealing. I'm still weighing my options, but it's certainly something I'm seriously considering.\n"
     ]
    }
   ],
   "source": [
    "response = ollama.chat(model='mistral:7b', messages=prompt_message)\n",
    "\n",
    "print(response['message']['content'])"
   ]
  },
  {
   "cell_type": "markdown",
   "id": "df6cebe8",
   "metadata": {},
   "source": [
    "LLAMA3.1:8b\n",
    "\n",
    "Ollama pull llama3.1:8b\n",
    "\n",
    "Size 4.9gb / context 128k"
   ]
  },
  {
   "cell_type": "code",
   "execution_count": 13,
   "id": "744ab6dd",
   "metadata": {},
   "outputs": [
    {
     "name": "stdout",
     "output_type": "stream",
     "text": [
      "Honestly, I've been thinking about it a lot lately. My attitude towards renewable energy is pretty strong - I'm really passionate about reducing our carbon footprint and being more sustainable. So, that's a big plus for me (Attitude: 0.8). However, my neighbor, Mrs. Johnson, recently mentioned that she's not too keen on the idea of solar panels, which makes me wonder what others in the neighborhood might think (Subjective Norm: 0.5).\n",
      "\n",
      "As for the cost, I'm a bit concerned about the upfront investment - it's not exactly cheap to install solar panels (Perceived Behavioral Control: 0.3). But overall, I think the pros outweigh the cons. If we can make our home more energy-independent and reduce our bills in the long run, that's worth exploring. So, yeah, I'd definitely consider installing solar panels on my roof!\n"
     ]
    }
   ],
   "source": [
    "response = ollama.chat(model='llama3.1:8b', messages=prompt_message)\n",
    "print(response['message']['content'])"
   ]
  },
  {
   "cell_type": "code",
   "execution_count": 14,
   "id": "ff4959f0",
   "metadata": {},
   "outputs": [
    {
     "name": "stdout",
     "output_type": "stream",
     "text": [
      "To be honest, I'm leaning towards it. My attitude towards renewable energy is very positive - I think it's a great way to reduce our carbon footprint and reliance on non-renewable sources. Plus, with the increasing efficiency of solar panels, I feel like they're a viable option for homeowners like me.\n",
      "\n",
      "But, I have to consider my neighbors' opinions as well. My subjective norm score is only 0.5, which means I'm not entirely convinced that installing solar panels would be socially acceptable or desirable in our community.\n",
      "\n",
      "As for the financial aspect, I'd say my perceived behavioral control is relatively low - 0.3 on a scale of 1. Installing solar panels can be expensive upfront, and it's hard to estimate whether the long-term benefits will outweigh the costs.\n",
      "\n",
      "Taking all these factors into account, I'd still probably go for it. The environmental benefits are just too important to me, and I think it would be a great conversation starter with my neighbors!\n"
     ]
    }
   ],
   "source": [
    "model_name = 'llama3.1:8b'\n",
    "response = ollama.chat(model='llama3.1:8b', messages=prompt_message)\n",
    "print(response['message']['content'])\n",
    "\n",
    "messages_test = prompt_message.copy()\n",
    "# Continue the conversation:\n",
    "while True:\n",
    "    user_input = input(\"You: \")\n",
    "    if not user_input:\n",
    "        break  # exit loop on empty input\n",
    "    messages_test.append({\"role\": \"user\", \"content\": user_input})\n",
    "    response = ollama.chat(model=model_name, messages=messages_test)\n",
    "    answer = response.message.content\n",
    "    print(\"user_input\", user_input)\n",
    "    print(\"Bot:\", answer)\n",
    "    messages_test.append({\"role\": \"assistant\", \"content\": answer})"
   ]
  },
  {
   "cell_type": "code",
   "execution_count": 15,
   "id": "ae0dd862",
   "metadata": {},
   "outputs": [],
   "source": [
    "# for message in messages_test:\n",
    "#     print(message)"
   ]
  },
  {
   "cell_type": "markdown",
   "id": "4f3a954f",
   "metadata": {},
   "source": [
    "Deepseek-r1:8b\n",
    "\n",
    "Size 5.2 gb | context 128k"
   ]
  },
  {
   "cell_type": "code",
   "execution_count": 16,
   "id": "2416b6a6",
   "metadata": {},
   "outputs": [
    {
     "name": "stdout",
     "output_type": "stream",
     "text": [
      "<think>\n",
      "Okay, so I need to figure out how to respond to someone asking about installing solar panels. The user provided three factors: Attitude (0.8 weight), Subjective Norm (0.5 weight), and Perceived Behavioral Control (0.3 weight). Let me break this down.\n",
      "\n",
      "First, Attitude is high at 0.8, so I think I'm pretty positive about renewable energy. Maybe I've heard a lot about the benefits like saving money and helping the environment. That makes me more likely to consider it.\n",
      "\n",
      "Next, Subjective Norm is 0.5, which isn't as high but still significant. I wonder what my neighbors think. If they have panels, that might influence me positively. People often follow what their peers do because of social pressure or desire for conformity. So if many neighbors are doing it, that could tip the scales.\n",
      "\n",
      "Lastly, Perceived Behavioral Control is 0.3. Money is a big factor for me. I need to know if installing panels is affordable and if there are financial incentives. High costs might make me hesitant, but if there are subsidies or grants, that would help. Also, maintenance and long-term savings should be considered.\n",
      "\n",
      "Putting it all together: My positive attitude towards renewable energy supports the idea. Neighbors' actions might influence my decision positively. But I need to check if it's financially feasible for me. If the costs are manageable and there are incentives, I'm more likely to install solar panels.\n",
      "</think>\n",
      "\n",
      "Based on my thoughts about installing solar panels, here's how I would respond: I've always been in favor of renewable energy because it aligns with my values and concern for the environment. While I'm enthusiastic about the idea, I'd want to see what my neighbors are doing—often their actions influence my decisions. Financially, I need to ensure it fits within my budget, but knowing there might be incentives could make all the difference. If everything checks out, installing solar panels sounds like a great choice for me and the planet!\n"
     ]
    }
   ],
   "source": [
    "model_name = 'deepseek-r1:8b'\n",
    "\n",
    "\n",
    "response = ollama.chat(model=model_name, messages=prompt_message)\n",
    "print(response['message']['content'])"
   ]
  }
 ],
 "metadata": {
  "kernelspec": {
   "display_name": "Python 3",
   "language": "python",
   "name": "python3"
  },
  "language_info": {
   "codemirror_mode": {
    "name": "ipython",
    "version": 3
   },
   "file_extension": ".py",
   "mimetype": "text/x-python",
   "name": "python",
   "nbconvert_exporter": "python",
   "pygments_lexer": "ipython3",
   "version": "3.12.0"
  }
 },
 "nbformat": 4,
 "nbformat_minor": 5
}
